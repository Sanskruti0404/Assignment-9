{
 "cells": [
  {
   "cell_type": "markdown",
   "id": "c2c6e2d3-f23c-4f69-91f1-a79a29c39319",
   "metadata": {},
   "source": [
    "## Assignment 9"
   ]
  },
  {
   "cell_type": "markdown",
   "id": "61d61a58-fc92-4744-9f48-3f2eefb809a4",
   "metadata": {},
   "source": [
    "## Q1\n",
    "The Exception class serves as the base class for all built-in and user-defined exceptions. When creating a custom exception, it is important to inherit from the Exception class or one of its subclasses for several reasons:\n",
    "\n",
    "Consistency and Compatibility: Inheriting from the Exception class ensures that your custom exception follows the same structure and behavior as other built-in exceptions in Python. It allows your custom exception to be compatible with existing exception handling mechanisms and conventions.\n",
    "\n",
    "Exception Hierarchy: The Exception class is at the top of the exception hierarchy in Python. By inheriting from it, your custom exception becomes a part of this hierarchy, making it easier to organize and categorize exceptions based on their relationships and common behavior.\n",
    "\n",
    "Exception Handling: Inheriting from the Exception class allows you to handle your custom exception in a general catch-all manner by catching the Exception base class itself. It provides a consistent way to handle all exceptions, including your custom exception, in a single except block.\n",
    "\n",
    "Code Clarity and Readability: Using the Exception class as the base class for custom exceptions helps to make your code more readable and understandable for other developers. It clearly indicates that the class is intended to be an exception and follows the established exception hierarchy."
   ]
  },
  {
   "cell_type": "code",
   "execution_count": 1,
   "id": "6bec7ad9-3601-440e-a857-e9cb147108ae",
   "metadata": {},
   "outputs": [
    {
     "name": "stdout",
     "output_type": "stream",
     "text": [
      "Negative values are not allowed.\n"
     ]
    }
   ],
   "source": [
    "class CustomException(Exception):\n",
    "    pass\n",
    "\n",
    "def perform_operation(value):\n",
    "    if value < 0:\n",
    "        raise CustomException(\"Negative values are not allowed.\")\n",
    "    else:\n",
    "        print(\"Operation performed successfully.\")\n",
    "\n",
    "try:\n",
    "    perform_operation(-5)\n",
    "except CustomException as e:\n",
    "    print(e)"
   ]
  },
  {
   "cell_type": "markdown",
   "id": "0906d895-3cd7-4438-8011-0262ab11bb1d",
   "metadata": {},
   "source": [
    "## Q2"
   ]
  },
  {
   "cell_type": "code",
   "execution_count": 2,
   "id": "b4f35893-1103-42c8-ab9c-18e9a229276b",
   "metadata": {},
   "outputs": [
    {
     "name": "stdout",
     "output_type": "stream",
     "text": [
      "Python Exception Hierarchy:\n",
      "============================\n",
      "CustomException\n",
      "    Exception\n"
     ]
    }
   ],
   "source": [
    "import sys\n",
    "\n",
    "def print_exception_hierarchy():\n",
    "    exceptions = []\n",
    "    for name, obj in vars(sys.modules[__name__]).items():\n",
    "        if isinstance(obj, type) and issubclass(obj, BaseException):\n",
    "            exceptions.append(obj)\n",
    "\n",
    "    exceptions.sort(key=lambda x: x.__name__)\n",
    "\n",
    "    for exception in exceptions:\n",
    "        print(exception.__name__)\n",
    "        if exception.__base__ is not BaseException:\n",
    "            print_exception_tree(exception, exception.__base__, 1)\n",
    "\n",
    "def print_exception_tree(exception, base_exception, indent_level):\n",
    "    indent = \"    \" * indent_level\n",
    "    print(f\"{indent}{base_exception.__name__}\")\n",
    "    if base_exception.__base__ is not BaseException:\n",
    "        print_exception_tree(exception, base_exception.__base__, indent_level + 1)\n",
    "\n",
    "# Main program\n",
    "print(\"Python Exception Hierarchy:\")\n",
    "print(\"============================\")\n",
    "print_exception_hierarchy()\n",
    "\n",
    "     "
   ]
  },
  {
   "cell_type": "markdown",
   "id": "e66bf649-b600-4c24-85d5-f4af92c8e308",
   "metadata": {},
   "source": [
    "## Q3\n",
    "The ArithmeticError class is a base class for arithmetic-related exceptions in Python. It serves as a superclass for a variety of specific arithmetic exceptions. Two commonly encountered exceptions that are subclasses of ArithmeticError are ZeroDivisionError and OverflowError. Let's explore each of them with examples:\n",
    "\n",
    "ZeroDivisionError: This exception is raised when attempting to divide a number by zero."
   ]
  },
  {
   "cell_type": "code",
   "execution_count": 3,
   "id": "d91c62f5-0e61-4095-8fa2-afe678b434e5",
   "metadata": {},
   "outputs": [
    {
     "name": "stdout",
     "output_type": "stream",
     "text": [
      "Error: Division by zero is not allowed.\n"
     ]
    }
   ],
   "source": [
    "num1 = 10\n",
    "num2 = 0\n",
    "\n",
    "try:\n",
    "    result = num1 / num2\n",
    "    print(\"Result:\", result)\n",
    "except ZeroDivisionError:\n",
    "    print(\"Error: Division by zero is not allowed.\")\n"
   ]
  },
  {
   "cell_type": "markdown",
   "id": "24dd75de-b0b3-4965-92f0-54331277658c",
   "metadata": {},
   "source": [
    "OverflowError: This exception is raised when the result of an arithmetic operation exceeds the maximum representable value."
   ]
  },
  {
   "cell_type": "code",
   "execution_count": 4,
   "id": "327f3ff5-1b36-408b-86ae-e609fc003fa4",
   "metadata": {},
   "outputs": [
    {
     "name": "stdout",
     "output_type": "stream",
     "text": [
      "Result: 100000000000000000000000000000000000000000000000000000000000000000000000000000000000000000000000000000000000000000000000000000000000000000000000000000000000000000000000000000000000000000000000000000000000000000000000000000000000000000000000000000000000000000000000000000000000000000000000000000000000000000000000000000000000000000000000000000000000000000000000000000000000000000000000000000000000000000000000000000000000000000000000000000000000000000000000000000000000000000000000000000000000000000000000000000000000000000000000000000000000000000000000000000000000000000000000000000000000000000000000000000000000000000000000000000000000000000000000000000000000000000000000000000000000000000000000000000000000000000000000000000000000000000000000000000000000000000000000000000000000000000000000000000000000000000000000000000000000000000000000000000000000000000000000000000000000000000000000000000000000000000000000000000000000000000000000000000000000000000000000000000000000000000000000000000000000000000000000000000000000000000000000000000000000000000000000000000000000000000000000000000000000000000000000000000000000000000000000000000000000000000000000000000000000000000000000000000000000000000000000000000000000000000000000000000000000000000000000000000000000000000000000000000000000000000000000000000000000000000000000000000000000000000000000000000000000000000000000000000000000000000000000000000000000000000000000000000000000000000000000000000000000000000000000000000000000000000000000000000000000000000000000000000000000000000000000000000000000000000000000000000000000000000000000000000000000000000000000000000000000000000000000000000000000000000000000000000000000000000000000000000000000000000000000000000000000000000000000000000000000000000000000000000000000000000000000000000000000000000000000000000000000000000000000000000000000000000000000000000000000000000000000000000000000000000000000000000000000000000000000000000000000000000000000000000000000000000000000000000000000000000000000000000000\n"
     ]
    }
   ],
   "source": [
    "num1 = 10**1000\n",
    "num2 = 10**1000\n",
    "\n",
    "try:\n",
    "    result = num1 * num2\n",
    "    print(\"Result:\", result)\n",
    "except OverflowError:\n",
    "    print(\"Error: Overflow occurred.\")"
   ]
  },
  {
   "cell_type": "markdown",
   "id": "fc6e3a4c-0eb2-4ab3-b3fa-836620599eb3",
   "metadata": {},
   "source": [
    "## Q4\n",
    "The LookupError class in Python is a base class for exceptions that are related to lookup operations. It serves as a superclass for exceptions like KeyError and IndexError.\n",
    "\n",
    "The primary purpose of the LookupError class is to handle errors that occur during indexing or lookup operations when accessing elements from sequences (such as lists or tuples) or mappings (such as dictionaries). It provides a common base for exceptions that indicate a lookup or indexing error, allowing for more specific handling of these types of errors.\n",
    "\n",
    "Here are explanations and examples of two subclasses of LookupError: KeyError and IndexError:\n",
    "\n",
    "KeyError: This exception is raised when a dictionary key is not found."
   ]
  },
  {
   "cell_type": "code",
   "execution_count": 5,
   "id": "13309ab1-2dd3-4f32-8c1a-0235daf05e70",
   "metadata": {},
   "outputs": [
    {
     "name": "stdout",
     "output_type": "stream",
     "text": [
      "Error: Key not found in dictionary.\n"
     ]
    }
   ],
   "source": [
    "my_dict = {\"apple\": \"red\", \"banana\": \"yellow\"}\n",
    "\n",
    "try:\n",
    "    value = my_dict[\"grape\"]\n",
    "    print(\"Value:\", value)\n",
    "except KeyError:\n",
    "    print(\"Error: Key not found in dictionary.\")"
   ]
  },
  {
   "cell_type": "code",
   "execution_count": null,
   "id": "54ab2a92-a676-4e51-9c4c-c03fdfb6a96b",
   "metadata": {},
   "outputs": [],
   "source": []
  }
 ],
 "metadata": {
  "kernelspec": {
   "display_name": "Python 3 (ipykernel)",
   "language": "python",
   "name": "python3"
  },
  "language_info": {
   "codemirror_mode": {
    "name": "ipython",
    "version": 3
   },
   "file_extension": ".py",
   "mimetype": "text/x-python",
   "name": "python",
   "nbconvert_exporter": "python",
   "pygments_lexer": "ipython3",
   "version": "3.11.7"
  }
 },
 "nbformat": 4,
 "nbformat_minor": 5
}
